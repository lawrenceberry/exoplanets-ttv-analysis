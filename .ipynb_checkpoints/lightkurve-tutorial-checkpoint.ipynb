{
 "cells": [
  {
   "cell_type": "code",
   "execution_count": 1,
   "id": "93ed2fbf-e7de-4f8b-bd9c-6b01a4b4029a",
   "metadata": {},
   "outputs": [],
   "source": [
    "from lightkurve import search_targetpixelfile\n",
    "\n",
    "# First we open a Target Pixel File from MAST, this one is already cached from our previous tutorial!\n",
    "tpf = search_targetpixelfile('KIC 6922244', author=\"Kepler\", cadence=\"long\", quarter=4).download()\n",
    "\n",
    "# Then we convert the target pixel file into a light curve using the pipeline-defined aperture mask.\n",
    "lc = tpf.to_lightcurve(aperture_mask=tpf.pipeline_mask)"
   ]
  },
  {
   "cell_type": "code",
   "execution_count": 8,
   "id": "20e536d9-2ffa-4598-bb31-9d6a51d0c999",
   "metadata": {},
   "outputs": [
    {
     "data": {
      "text/plain": [
       "'Kepler'"
      ]
     },
     "execution_count": 8,
     "metadata": {},
     "output_type": "execute_result"
    }
   ],
   "source": [
    "lc.meta['MISSION']"
   ]
  },
  {
   "cell_type": "code",
   "execution_count": 7,
   "id": "db1247b1-744f-4549-950f-954faf212202",
   "metadata": {},
   "outputs": [
    {
     "data": {
      "text/plain": [
       "4"
      ]
     },
     "execution_count": 7,
     "metadata": {},
     "output_type": "execute_result"
    }
   ],
   "source": [
    "lc.meta['QUARTER']"
   ]
  },
  {
   "cell_type": "code",
   "execution_count": 6,
   "id": "7bbb114b-9363-4931-969d-8af101e41950",
   "metadata": {},
   "outputs": [
    {
     "data": {
      "text/plain": [
       "<Time object: scale='tdb' format='bkjd' value=[352.37632485 352.39675805 352.43762445 ... 442.16263546 442.18306983\n",
       " 442.2035041 ]>"
      ]
     },
     "execution_count": 6,
     "metadata": {},
     "output_type": "execute_result"
    }
   ],
   "source": [
    "lc.time"
   ]
  },
  {
   "cell_type": "code",
   "execution_count": null,
   "id": "fa5c6378-c5f0-46c7-bccd-0615d77c5c20",
   "metadata": {},
   "outputs": [],
   "source": []
  }
 ],
 "metadata": {
  "kernelspec": {
   "display_name": "Python 3 (ipykernel)",
   "language": "python",
   "name": "python3"
  },
  "language_info": {
   "codemirror_mode": {
    "name": "ipython",
    "version": 3
   },
   "file_extension": ".py",
   "mimetype": "text/x-python",
   "name": "python",
   "nbconvert_exporter": "python",
   "pygments_lexer": "ipython3",
   "version": "3.8.5"
  }
 },
 "nbformat": 4,
 "nbformat_minor": 5
}
