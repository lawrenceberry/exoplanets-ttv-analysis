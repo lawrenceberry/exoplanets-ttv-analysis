{
 "cells": [
  {
   "cell_type": "code",
   "execution_count": 1,
   "id": "d1382466-ca6c-46d3-8ac8-4a11678a493c",
   "metadata": {},
   "outputs": [],
   "source": [
    "sd = 0.002\n",
    "\n",
    "def neg_log_likelihood(x):\n",
    "    t0, rp, a, inc, w = x\n",
    "\n",
    "    params.t0 = t0\n",
    "    params.rp = rp\n",
    "    params.a = a\n",
    "    params.inc = inc\n",
    "    params.w = w\n",
    "\n",
    "    N = len(actual_flux)\n",
    "    model_flux = m.light_curve(params)\n",
    "    neg_log_likelihood = (N/2 * np.log(2*sp.pi*(sd**2))) + (0.5 * np.sum(((actual_flux-model_flux)/sd)**2))\n",
    "    \n",
    "    return neg_log_likelihood"
   ]
  },
  {
   "cell_type": "code",
   "execution_count": 3,
   "id": "8bc0339b-ab97-413f-b2f2-9b789aa41e7b",
   "metadata": {},
   "outputs": [
    {
     "data": {
      "text/plain": [
       "11.857534246575343"
      ]
     },
     "execution_count": 3,
     "metadata": {},
     "output_type": "execute_result"
    }
   ],
   "source": [
    "(2458843-2454515) / 365"
   ]
  },
  {
   "cell_type": "code",
   "execution_count": 4,
   "id": "b26959d3-74bb-4006-b6d3-a473247d3cf9",
   "metadata": {},
   "outputs": [
    {
     "data": {
      "text/plain": [
       "0.6192"
      ]
     },
     "execution_count": 4,
     "metadata": {},
     "output_type": "execute_result"
    }
   ],
   "source": [
    "0.00043 * 24 * 60"
   ]
  },
  {
   "cell_type": "code",
   "execution_count": 5,
   "id": "81dadc9d-1272-4bfe-8c99-cdc8160fd275",
   "metadata": {},
   "outputs": [
    {
     "data": {
      "text/plain": [
       "0.0006944444444444445"
      ]
     },
     "execution_count": 5,
     "metadata": {},
     "output_type": "execute_result"
    }
   ],
   "source": [
    "1/60 * 1/24"
   ]
  },
  {
   "cell_type": "code",
   "execution_count": null,
   "id": "051e4ea5-52aa-4d28-8311-8ead5957899a",
   "metadata": {},
   "outputs": [],
   "source": []
  },
  {
   "cell_type": "code",
   "execution_count": 2,
   "id": "d25fc3fd-4402-4eeb-a158-5fc8be859ac1",
   "metadata": {},
   "outputs": [],
   "source": [
    "# Try different models fitting dP/dt to be constant or dP/dE to be constant - what is the difference between the two?\n",
    "# Try higher order term models"
   ]
  },
  {
   "cell_type": "code",
   "execution_count": 1,
   "id": "0254f64d-a48b-44a7-86d3-3a86e93012e3",
   "metadata": {},
   "outputs": [],
   "source": [
    "# dP/dE has an epoch squared term - i.e. period decay depends on period itself\n",
    "# we only model up to quadratic on the period decay per time, we will struggle \n",
    "\n",
    "# there should not be a fundamental reason we can't fit higher order models\n",
    "\n"
   ]
  },
  {
   "cell_type": "code",
   "execution_count": 8,
   "id": "22fcabb7-b4c5-432b-be19-108e14faf0a2",
   "metadata": {},
   "outputs": [],
   "source": [
    "# integrate dP/dE to work out the decay over ten years\n",
    "# integrate dP/dE to work out how many years worth of data we need to see one minute's worth of transit time deviation (which is the same order to 1 standard deviation of transit time measurements)"
   ]
  },
  {
   "cell_type": "code",
   "execution_count": 9,
   "id": "2e7a6cee-9acf-4a76-bc3e-d563b54692d9",
   "metadata": {},
   "outputs": [],
   "source": [
    "# cross reference the estimated baselines with real observed transit times"
   ]
  },
  {
   "cell_type": "code",
   "execution_count": 3,
   "id": "7671476f-2977-4326-9d9e-7f8b51becd78",
   "metadata": {},
   "outputs": [],
   "source": [
    "# how well can we measure the individual transits? Use the uncertainty in the period from the exoplanet dataset to refine the years of data i.e. the more uncertain the transit times the more years of data we need to see a statistically significant transit deviation"
   ]
  },
  {
   "cell_type": "code",
   "execution_count": 11,
   "id": "10ffa169-7528-4532-981d-f39ef6f0f1db",
   "metadata": {},
   "outputs": [],
   "source": [
    "# Carter et al tried to come up with uncertainties in a transit time measurement given stellar and planetary properties"
   ]
  },
  {
   "cell_type": "code",
   "execution_count": 12,
   "id": "3ff04a41-5f56-4ec1-bfbf-1415dde30f02",
   "metadata": {},
   "outputs": [],
   "source": [
    "# then we can tell what planets should be investigated, because we can always get more data to make a ten year baseline"
   ]
  },
  {
   "cell_type": "code",
   "execution_count": null,
   "id": "6a69cae5-54c5-48bc-965d-332507f6ecf3",
   "metadata": {},
   "outputs": [],
   "source": []
  },
  {
   "cell_type": "code",
   "execution_count": 13,
   "id": "761ac689-c7bb-46b6-a126-5a6718aea4b9",
   "metadata": {},
   "outputs": [],
   "source": [
    "# number of transits and each transit's uncertainty is also important, not just the time range of the baseline"
   ]
  },
  {
   "cell_type": "code",
   "execution_count": 5,
   "id": "cfef4718-78fd-4f5a-ae2f-3834bb45f8ee",
   "metadata": {},
   "outputs": [],
   "source": [
    "# we want some observational metric which combines all of these things - time range of baseline, number of transits, uncertainty in each transit time"
   ]
  },
  {
   "cell_type": "code",
   "execution_count": 4,
   "id": "2e5fd31a-89f9-477a-a460-0ba2fa2982de",
   "metadata": {},
   "outputs": [],
   "source": [
    "# can you predict whether or not you would observe decay given the range of the baseline, number of transits, uncertainty in each transit time (or as a proxy uncertainty in the period)\n",
    "# the planets where the period is most certain have the most certain transit times - this could make for a good observational metric"
   ]
  },
  {
   "cell_type": "code",
   "execution_count": null,
   "id": "d8bd892b-eb82-45fb-b3ca-efb4f542f603",
   "metadata": {},
   "outputs": [],
   "source": []
  },
  {
   "cell_type": "code",
   "execution_count": null,
   "id": "468e76af-d39f-462d-a55b-04be9353867f",
   "metadata": {},
   "outputs": [],
   "source": []
  },
  {
   "cell_type": "code",
   "execution_count": 19,
   "id": "2b6d0dce-3e1b-49f8-9ebf-f2f60d77a9d3",
   "metadata": {},
   "outputs": [],
   "source": [
    "# adjust Q by stellar evolution time"
   ]
  }
 ],
 "metadata": {
  "kernelspec": {
   "display_name": "Python 3 (ipykernel)",
   "language": "python",
   "name": "python3"
  },
  "language_info": {
   "codemirror_mode": {
    "name": "ipython",
    "version": 3
   },
   "file_extension": ".py",
   "mimetype": "text/x-python",
   "name": "python",
   "nbconvert_exporter": "python",
   "pygments_lexer": "ipython3",
   "version": "3.8.5"
  }
 },
 "nbformat": 4,
 "nbformat_minor": 5
}
